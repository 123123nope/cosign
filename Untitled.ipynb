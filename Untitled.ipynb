{
 "cells": [
  {
   "cell_type": "code",
   "execution_count": null,
   "id": "9544bcc3-fb8d-4633-b39f-fd10527b4381",
   "metadata": {},
   "outputs": [],
   "source": [
    "aptos account list \\\n",
    "--account 0x1 \\\n",
    "--node-api-key AG-HG1SHAXSV71FZCT1NZYCSKKU4W6KNUBJA \\\n",
    "--url https://api.mainnet.aptoslabs.com/v1"
   ]
  },
  {
   "cell_type": "code",
   "execution_count": null,
   "id": "db8f21d5-8f7e-45a7-8d69-1c637870a01a",
   "metadata": {},
   "outputs": [],
   "source": [
    "aptos account list \\\n",
    "--account 0x1 \\\n",
    "--node-api-key AG-HG1SHAXSV71FZCT1NZYCSKKU4W6KNUBJA \\\n",
    "--url https://api.mainnet.aptoslabs.com/v1"
   ]
  },
  {
   "cell_type": "code",
   "execution_count": null,
   "id": "5c26da78-83ac-4e62-b020-334f41ae75c5",
   "metadata": {},
   "outputs": [],
   "source": []
  },
  {
   "cell_type": "code",
   "execution_count": null,
   "id": "8e47a1f5-08df-488d-8b57-f9a3c1b02576",
   "metadata": {},
   "outputs": [],
   "source": []
  }
 ],
 "metadata": {
  "kernelspec": {
   "display_name": "Python 3 (ipykernel)",
   "language": "python",
   "name": "python3"
  },
  "language_info": {
   "codemirror_mode": {
    "name": "ipython",
    "version": 3
   },
   "file_extension": ".py",
   "mimetype": "text/x-python",
   "name": "python",
   "nbconvert_exporter": "python",
   "pygments_lexer": "ipython3",
   "version": "3.12.1"
  }
 },
 "nbformat": 4,
 "nbformat_minor": 5
}
